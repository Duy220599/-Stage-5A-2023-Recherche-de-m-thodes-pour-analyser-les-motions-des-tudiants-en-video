{
 "cells": [
  {
   "cell_type": "code",
   "execution_count": 41,
   "id": "811accad",
   "metadata": {},
   "outputs": [],
   "source": [
    "import cv2\n",
    "import os"
   ]
  },
  {
   "cell_type": "code",
   "execution_count": 40,
   "id": "d170df0b",
   "metadata": {},
   "outputs": [],
   "source": [
    "input_dir= (r'C:\\Users\\thanh\\anaconda3\\Code\\Projet 2023\\Data\\Video')\n",
    "output_dir = (r'C:\\Users\\thanh\\anaconda3\\Code\\Projet 2023\\Data\\Faces_extracted')\n",
    "\n",
    "frame_rate = 2 #rate you want to record\n",
    "frame_count = 0 \n",
    "            \n",
    "            \n",
    "            \n",
    "# while video.isOpened():\n",
    "#     ret,frame  =  video.read()\n",
    "#     cv2.imshow('camera1',frame)\n",
    "#     if not ret:\n",
    "#         break\n",
    "#     if frame_count % frame_rate == 0:\n",
    "         \n",
    "#     if cv2.waitKey(1) & 0xFF == ord('q'):\n",
    "#         break\n",
    "#     frame_count  += frame_rate\n",
    "# video.release()\n",
    "# cv2.destroyAllWindows()"
   ]
  },
  {
   "cell_type": "code",
   "execution_count": 39,
   "id": "d52da9ef",
   "metadata": {},
   "outputs": [],
   "source": [
    "#Capture video \n",
    "for filename in os.listdir(input_dir):\n",
    "    #Part 1 : Read  the file in data and make folders for extracted faces from each video\n",
    "    if filename.endswith('.mp4'):\n",
    "        video = cv2.VideoCapture(os.path.join(input_dir,filename))\n",
    "        #set output directory for faces extracted correspond to name of video\n",
    "        faces_extracted_dir = os.path.join(output_dir,os.path.splitext(filename)[0])\n",
    "        if not os.path.exists(faces_extracted_dir):\n",
    "            os.makedirs(faces_extracted_dir)\n",
    "    \n",
    "    video = cv2.VideoCapture(filename)\n",
    "    while video.isOpened():\n",
    "        ret,frame = video.read()\n",
    "        if not ret:\n",
    "            break  \n",
    "        #Part 2 : Detect faces and transform to grayscale\n",
    "        if frame_count % frame_rate == 0:\n",
    "            face_cascade = cv2.CascadeClassifier('haarcascade_frontalface_default.xml')\n",
    "            gray = cv2.cvtColor(frame, cv2.COLOR_BRG2GRAY)\n",
    "            \n",
    "            faces = face_cascade.detectMultiScale(gray,1.3,5)\n",
    "              # Part 3: Save each face as a separate image\n",
    "            for i,(x,y,w,h) in enumerate(faces):\n",
    "                \n",
    "                cv2.rectangle(frame, (x, y), (x + w, y + h), (0, 255, 0), 2)\n",
    "                cv2.imshow('Frame', frame)\n",
    "                print(100)\n",
    "                if cv2.waitKey(1) & 0xFF == ord('q'):\n",
    "                        break\n",
    "                        cv2.destroyAllWindows()\n",
    "#                 face_image = frame[y:y+h, x:x+w]\n",
    "#                 cv2.imwrite(())\n",
    "\n",
    "\n",
    "print(100)            "
   ]
  },
  {
   "cell_type": "code",
   "execution_count": null,
   "id": "7f8d9a99",
   "metadata": {},
   "outputs": [],
   "source": []
  }
 ],
 "metadata": {
  "kernelspec": {
   "display_name": "Python 3 (ipykernel)",
   "language": "python",
   "name": "python3"
  },
  "language_info": {
   "codemirror_mode": {
    "name": "ipython",
    "version": 3
   },
   "file_extension": ".py",
   "mimetype": "text/x-python",
   "name": "python",
   "nbconvert_exporter": "python",
   "pygments_lexer": "ipython3",
   "version": "3.9.16"
  }
 },
 "nbformat": 4,
 "nbformat_minor": 5
}
